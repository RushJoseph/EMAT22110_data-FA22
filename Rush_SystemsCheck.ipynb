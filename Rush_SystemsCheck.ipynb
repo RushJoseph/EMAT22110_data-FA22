{
 "cells": [
  {
   "cell_type": "markdown",
   "id": "c6966387",
   "metadata": {},
   "source": [
    "# Systems Check Assignment #\n",
    "## Joseph Rush ##\n",
    "\n",
    "Here is a list of my most-played games on Steam\n",
    "1. Warframe\n",
    "2. Killing Floor 2\n",
    "3. XCOM 2\n",
    "4. PlanetSide 2\n",
    "\n",
    "In no particular order\n",
    "- Killing Floor 2\n",
    "- PlanetSide 2\n",
    "- Warframe\n",
    "- XCOM 2"
   ]
  },
  {
   "cell_type": "markdown",
   "id": "6cc5a5fe",
   "metadata": {},
   "source": [
    "**Variable Assignment**"
   ]
  },
  {
   "cell_type": "code",
   "execution_count": null,
   "id": "dd02c400",
   "metadata": {},
   "outputs": [],
   "source": []
  },
  {
   "cell_type": "markdown",
   "id": "5996cd1f",
   "metadata": {},
   "source": [
    "**For loop**"
   ]
  },
  {
   "cell_type": "code",
   "execution_count": 2,
   "id": "3781fcce",
   "metadata": {
    "scrolled": false
   },
   "outputs": [
    {
     "name": "stdout",
     "output_type": "stream",
     "text": [
      "a\n",
      "b\n",
      "c\n",
      "d\n"
     ]
    }
   ],
   "source": [
    "for i in [\"a\", \"b\", \"c\", \"d\"]:\n",
    "    print(i)"
   ]
  },
  {
   "cell_type": "markdown",
   "id": "55ea01b7",
   "metadata": {},
   "source": [
    "**Print Statement**"
   ]
  },
  {
   "cell_type": "code",
   "execution_count": 3,
   "id": "9d93da32",
   "metadata": {},
   "outputs": [
    {
     "name": "stdout",
     "output_type": "stream",
     "text": [
      "Candy\n"
     ]
    }
   ],
   "source": [
    "x=\"Candy\"\n",
    "print(x)"
   ]
  },
  {
   "cell_type": "markdown",
   "id": "c1f4c23c",
   "metadata": {},
   "source": [
    "**Return Statement**"
   ]
  },
  {
   "cell_type": "code",
   "execution_count": null,
   "id": "dfeedee4",
   "metadata": {},
   "outputs": [],
   "source": []
  }
 ],
 "metadata": {
  "kernelspec": {
   "display_name": "Python 3 (ipykernel)",
   "language": "python",
   "name": "python3"
  },
  "language_info": {
   "codemirror_mode": {
    "name": "ipython",
    "version": 3
   },
   "file_extension": ".py",
   "mimetype": "text/x-python",
   "name": "python",
   "nbconvert_exporter": "python",
   "pygments_lexer": "ipython3",
   "version": "3.10.4"
  }
 },
 "nbformat": 4,
 "nbformat_minor": 5
}
